{
 "cells": [
  {
   "cell_type": "markdown",
   "id": "5f79ea54",
   "metadata": {},
   "source": [
    "# 🧠 AI Research Assistant Notebook\n",
    "\n",
    "This notebook allows you to:\n",
    "- Search web articles\n",
    "- Scrape content\n",
    "- Summarize using OpenAI\n",
    "- Generate a markdown report\n"
   ]
  },
  {
   "cell_type": "code",
   "execution_count": null,
   "id": "caf4c1a4",
   "metadata": {},
   "outputs": [],
   "source": [
    "import sys, os\n",
    "sys.path.append(os.getcwd())"
   ]
  },
  {
   "cell_type": "code",
   "execution_count": null,
   "id": "4290512c",
   "metadata": {},
   "outputs": [],
   "source": [
    "from dotenv import load_dotenv\n",
    "load_dotenv()"
   ]
  },
  {
   "cell_type": "code",
   "execution_count": null,
   "id": "be89b1da",
   "metadata": {},
   "outputs": [],
   "source": [
    "from agents.web_search_agent import search_web\n",
    "from agents.scraper_agent import scrape_url\n",
    "from agents.summarizer_agent import summarize_text\n",
    "from agents.organizer_agent import organize_report"
   ]
  },
  {
   "cell_type": "markdown",
   "id": "27ecbe28",
   "metadata": {},
   "source": [
    "## 🔍 Step 1: Search the Web"
   ]
  },
  {
   "cell_type": "code",
   "execution_count": null,
   "id": "514719a4",
   "metadata": {},
   "outputs": [],
   "source": [
    "urls = search_web(\"Future of Artificial Intelligence\")\n",
    "urls"
   ]
  },
  {
   "cell_type": "markdown",
   "id": "6811f253",
   "metadata": {},
   "source": [
    "## 🧽 Step 2: Scrape the First URL"
   ]
  },
  {
   "cell_type": "code",
   "execution_count": null,
   "id": "db702183",
   "metadata": {},
   "outputs": [],
   "source": [
    "text = scrape_url(urls[0])\n",
    "print(text[:1000])"
   ]
  },
  {
   "cell_type": "markdown",
   "id": "56a56851",
   "metadata": {},
   "source": [
    "## 🧠 Step 3: Summarize the Article"
   ]
  },
  {
   "cell_type": "code",
   "execution_count": null,
   "id": "458af619",
   "metadata": {},
   "outputs": [],
   "source": [
    "summary = summarize_text(text)\n",
    "print(summary)"
   ]
  },
  {
   "cell_type": "markdown",
   "id": "1b2d2cf7",
   "metadata": {},
   "source": [
    "## 📄 Step 4: Organize into Markdown Report"
   ]
  },
  {
   "cell_type": "code",
   "execution_count": null,
   "id": "ff6241d0",
   "metadata": {},
   "outputs": [],
   "source": [
    "report = organize_report(\"Future of AI\", [{\"url\": urls[0], \"summary\": summary}])\n",
    "\n",
    "with open(\"output.md\", \"w\", encoding=\"utf-8\") as f:\n",
    "    f.write(report)\n",
    "\n",
    "print(\"✅ Report saved as output.md\")"
   ]
  }
 ],
 "metadata": {},
 "nbformat": 4,
 "nbformat_minor": 5
}
