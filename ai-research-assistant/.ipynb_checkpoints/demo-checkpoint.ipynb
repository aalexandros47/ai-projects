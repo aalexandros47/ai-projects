{
 "cells": [
  {
   "cell_type": "markdown",
   "id": "5f79ea54",
   "metadata": {},
   "source": [
    "# 🧠 AI Research Assistant Notebook\n",
    "\n",
    "This notebook allows you to:\n",
    "- Search web articles\n",
    "- Scrape content\n",
    "- Summarize using OpenAI\n",
    "- Generate a markdown report\n"
   ]
  },
  {
   "cell_type": "code",
   "execution_count": 1,
   "id": "caf4c1a4",
   "metadata": {},
   "outputs": [],
   "source": [
    "import sys, os\n",
    "sys.path.append(os.getcwd())"
   ]
  },
  {
   "cell_type": "code",
   "execution_count": 2,
   "id": "4290512c",
   "metadata": {},
   "outputs": [
    {
     "ename": "ModuleNotFoundError",
     "evalue": "No module named 'dotenv'",
     "output_type": "error",
     "traceback": [
      "\u001b[31m---------------------------------------------------------------------------\u001b[39m",
      "\u001b[31mModuleNotFoundError\u001b[39m                       Traceback (most recent call last)",
      "\u001b[36mCell\u001b[39m\u001b[36m \u001b[39m\u001b[32mIn[2]\u001b[39m\u001b[32m, line 1\u001b[39m\n\u001b[32m----> \u001b[39m\u001b[32m1\u001b[39m \u001b[38;5;28;01mfrom\u001b[39;00m\u001b[38;5;250m \u001b[39m\u001b[34;01mdotenv\u001b[39;00m\u001b[38;5;250m \u001b[39m\u001b[38;5;28;01mimport\u001b[39;00m load_dotenv\n\u001b[32m      2\u001b[39m load_dotenv()\n",
      "\u001b[31mModuleNotFoundError\u001b[39m: No module named 'dotenv'"
     ]
    }
   ],
   "source": [
    "from dotenv import load_dotenv\n",
    "load_dotenv()"
   ]
  },
  {
   "cell_type": "code",
   "execution_count": 3,
   "id": "be89b1da",
   "metadata": {},
   "outputs": [
    {
     "ename": "ModuleNotFoundError",
     "evalue": "No module named 'agents.web_search_agent'",
     "output_type": "error",
     "traceback": [
      "\u001b[31m---------------------------------------------------------------------------\u001b[39m",
      "\u001b[31mModuleNotFoundError\u001b[39m                       Traceback (most recent call last)",
      "\u001b[36mCell\u001b[39m\u001b[36m \u001b[39m\u001b[32mIn[3]\u001b[39m\u001b[32m, line 1\u001b[39m\n\u001b[32m----> \u001b[39m\u001b[32m1\u001b[39m \u001b[38;5;28;01mfrom\u001b[39;00m\u001b[38;5;250m \u001b[39m\u001b[34;01magents\u001b[39;00m\u001b[34;01m.\u001b[39;00m\u001b[34;01mweb_search_agent\u001b[39;00m\u001b[38;5;250m \u001b[39m\u001b[38;5;28;01mimport\u001b[39;00m search_web\n\u001b[32m      2\u001b[39m \u001b[38;5;28;01mfrom\u001b[39;00m\u001b[38;5;250m \u001b[39m\u001b[34;01magents\u001b[39;00m\u001b[34;01m.\u001b[39;00m\u001b[34;01mscraper_agent\u001b[39;00m\u001b[38;5;250m \u001b[39m\u001b[38;5;28;01mimport\u001b[39;00m scrape_url\n\u001b[32m      3\u001b[39m \u001b[38;5;28;01mfrom\u001b[39;00m\u001b[38;5;250m \u001b[39m\u001b[34;01magents\u001b[39;00m\u001b[34;01m.\u001b[39;00m\u001b[34;01msummarizer_agent\u001b[39;00m\u001b[38;5;250m \u001b[39m\u001b[38;5;28;01mimport\u001b[39;00m summarize_text\n",
      "\u001b[31mModuleNotFoundError\u001b[39m: No module named 'agents.web_search_agent'"
     ]
    }
   ],
   "source": [
    "from agents.web_search_agent import search_web\n",
    "from agents.scraper_agent import scrape_url\n",
    "from agents.summarizer_agent import summarize_text\n",
    "from agents.organizer_agent import organize_report"
   ]
  },
  {
   "cell_type": "markdown",
   "id": "27ecbe28",
   "metadata": {},
   "source": [
    "## 🔍 Step 1: Search the Web"
   ]
  },
  {
   "cell_type": "code",
   "execution_count": 4,
   "id": "514719a4",
   "metadata": {},
   "outputs": [
    {
     "ename": "NameError",
     "evalue": "name 'search_web' is not defined",
     "output_type": "error",
     "traceback": [
      "\u001b[31m---------------------------------------------------------------------------\u001b[39m",
      "\u001b[31mNameError\u001b[39m                                 Traceback (most recent call last)",
      "\u001b[36mCell\u001b[39m\u001b[36m \u001b[39m\u001b[32mIn[4]\u001b[39m\u001b[32m, line 1\u001b[39m\n\u001b[32m----> \u001b[39m\u001b[32m1\u001b[39m urls = \u001b[43msearch_web\u001b[49m(\u001b[33m\"\u001b[39m\u001b[33mFuture of Artificial Intelligence\u001b[39m\u001b[33m\"\u001b[39m)\n\u001b[32m      2\u001b[39m urls\n",
      "\u001b[31mNameError\u001b[39m: name 'search_web' is not defined"
     ]
    }
   ],
   "source": [
    "urls = search_web(\"Future of Artificial Intelligence\")\n",
    "urls"
   ]
  },
  {
   "cell_type": "markdown",
   "id": "6811f253",
   "metadata": {},
   "source": [
    "## 🧽 Step 2: Scrape the First URL"
   ]
  },
  {
   "cell_type": "code",
   "execution_count": 5,
   "id": "db702183",
   "metadata": {},
   "outputs": [
    {
     "ename": "NameError",
     "evalue": "name 'scrape_url' is not defined",
     "output_type": "error",
     "traceback": [
      "\u001b[31m---------------------------------------------------------------------------\u001b[39m",
      "\u001b[31mNameError\u001b[39m                                 Traceback (most recent call last)",
      "\u001b[36mCell\u001b[39m\u001b[36m \u001b[39m\u001b[32mIn[5]\u001b[39m\u001b[32m, line 1\u001b[39m\n\u001b[32m----> \u001b[39m\u001b[32m1\u001b[39m text = \u001b[43mscrape_url\u001b[49m(urls[\u001b[32m0\u001b[39m])\n\u001b[32m      2\u001b[39m \u001b[38;5;28mprint\u001b[39m(text[:\u001b[32m1000\u001b[39m])\n",
      "\u001b[31mNameError\u001b[39m: name 'scrape_url' is not defined"
     ]
    }
   ],
   "source": [
    "text = scrape_url(urls[0])\n",
    "print(text[:1000])"
   ]
  },
  {
   "cell_type": "markdown",
   "id": "56a56851",
   "metadata": {},
   "source": [
    "## 🧠 Step 3: Summarize the Article"
   ]
  },
  {
   "cell_type": "code",
   "execution_count": 6,
   "id": "458af619",
   "metadata": {},
   "outputs": [
    {
     "ename": "NameError",
     "evalue": "name 'summarize_text' is not defined",
     "output_type": "error",
     "traceback": [
      "\u001b[31m---------------------------------------------------------------------------\u001b[39m",
      "\u001b[31mNameError\u001b[39m                                 Traceback (most recent call last)",
      "\u001b[36mCell\u001b[39m\u001b[36m \u001b[39m\u001b[32mIn[6]\u001b[39m\u001b[32m, line 1\u001b[39m\n\u001b[32m----> \u001b[39m\u001b[32m1\u001b[39m summary = \u001b[43msummarize_text\u001b[49m(text)\n\u001b[32m      2\u001b[39m \u001b[38;5;28mprint\u001b[39m(summary)\n",
      "\u001b[31mNameError\u001b[39m: name 'summarize_text' is not defined"
     ]
    }
   ],
   "source": [
    "summary = summarize_text(text)\n",
    "print(summary)"
   ]
  },
  {
   "cell_type": "markdown",
   "id": "1b2d2cf7",
   "metadata": {},
   "source": [
    "## 📄 Step 4: Organize into Markdown Report"
   ]
  },
  {
   "cell_type": "code",
   "execution_count": 7,
   "id": "ff6241d0",
   "metadata": {},
   "outputs": [
    {
     "ename": "NameError",
     "evalue": "name 'organize_report' is not defined",
     "output_type": "error",
     "traceback": [
      "\u001b[31m---------------------------------------------------------------------------\u001b[39m",
      "\u001b[31mNameError\u001b[39m                                 Traceback (most recent call last)",
      "\u001b[36mCell\u001b[39m\u001b[36m \u001b[39m\u001b[32mIn[7]\u001b[39m\u001b[32m, line 1\u001b[39m\n\u001b[32m----> \u001b[39m\u001b[32m1\u001b[39m report = \u001b[43morganize_report\u001b[49m(\u001b[33m\"\u001b[39m\u001b[33mFuture of AI\u001b[39m\u001b[33m\"\u001b[39m, [{\u001b[33m\"\u001b[39m\u001b[33murl\u001b[39m\u001b[33m\"\u001b[39m: urls[\u001b[32m0\u001b[39m], \u001b[33m\"\u001b[39m\u001b[33msummary\u001b[39m\u001b[33m\"\u001b[39m: summary}])\n\u001b[32m      3\u001b[39m \u001b[38;5;28;01mwith\u001b[39;00m \u001b[38;5;28mopen\u001b[39m(\u001b[33m\"\u001b[39m\u001b[33moutput.md\u001b[39m\u001b[33m\"\u001b[39m, \u001b[33m\"\u001b[39m\u001b[33mw\u001b[39m\u001b[33m\"\u001b[39m, encoding=\u001b[33m\"\u001b[39m\u001b[33mutf-8\u001b[39m\u001b[33m\"\u001b[39m) \u001b[38;5;28;01mas\u001b[39;00m f:\n\u001b[32m      4\u001b[39m     f.write(report)\n",
      "\u001b[31mNameError\u001b[39m: name 'organize_report' is not defined"
     ]
    }
   ],
   "source": [
    "report = organize_report(\"Future of AI\", [{\"url\": urls[0], \"summary\": summary}])\n",
    "\n",
    "with open(\"output.md\", \"w\", encoding=\"utf-8\") as f:\n",
    "    f.write(report)\n",
    "\n",
    "print(\"✅ Report saved as output.md\")"
   ]
  },
  {
   "cell_type": "code",
   "execution_count": null,
   "id": "79b531dd-8f34-4718-8346-9a9472f9557a",
   "metadata": {},
   "outputs": [],
   "source": []
  }
 ],
 "metadata": {
  "kernelspec": {
   "display_name": "Python (AI Assistant)",
   "language": "python",
   "name": "venv"
  },
  "language_info": {
   "codemirror_mode": {
    "name": "ipython",
    "version": 3
   },
   "file_extension": ".py",
   "mimetype": "text/x-python",
   "name": "python",
   "nbconvert_exporter": "python",
   "pygments_lexer": "ipython3",
   "version": "3.13.2"
  }
 },
 "nbformat": 4,
 "nbformat_minor": 5
}
